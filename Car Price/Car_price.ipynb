{
 "cells": [
  {
   "cell_type": "code",
   "execution_count": 46,
   "id": "92f89667-1093-4754-b01f-84e172f5ee5e",
   "metadata": {},
   "outputs": [],
   "source": [
    "# Analytics libraries\n",
    "\n",
    "import numpy as np # algebra linear\n",
    "import pandas as pd # processamento de dados, arquivo CSV I/O\n",
    "import seaborn as srn\n",
    "import statistics  as sts\n",
    "import matplotlib.pyplot as plt\n",
    "import re\n",
    "\n",
    "# Modelando\n",
    "from sklearn.model_selection import train_test_split, RandomizedSearchCV\n",
    "from sklearn.metrics import mean_squared_error, r2_score, mean_absolute_error\n",
    "from sklearn.neighbors import KNeighborsRegressor\n",
    "from sklearn.tree import DecisionTreeRegressor\n",
    "from sklearn.ensemble import AdaBoostRegressor\n",
    "from sklearn.linear_model import LinearRegression, Ridge, Lasso\n",
    "from xgboost import XGBRegressor"
   ]
  },
  {
   "cell_type": "code",
   "execution_count": 47,
   "id": "b0b76ad5-2e1e-4418-9aa0-b2b5768e2ddf",
   "metadata": {},
   "outputs": [],
   "source": [
    "# Inicialmente, a exploração e limpeza (se necessário) de dados."
   ]
  },
  {
   "cell_type": "code",
   "execution_count": 48,
   "id": "2653f44f-f41c-4743-9403-07bcaf82fbd9",
   "metadata": {},
   "outputs": [
    {
     "data": {
      "text/html": [
       "<div>\n",
       "<style scoped>\n",
       "    .dataframe tbody tr th:only-of-type {\n",
       "        vertical-align: middle;\n",
       "    }\n",
       "\n",
       "    .dataframe tbody tr th {\n",
       "        vertical-align: top;\n",
       "    }\n",
       "\n",
       "    .dataframe thead th {\n",
       "        text-align: right;\n",
       "    }\n",
       "</style>\n",
       "<table border=\"1\" class=\"dataframe\">\n",
       "  <thead>\n",
       "    <tr style=\"text-align: right;\">\n",
       "      <th></th>\n",
       "      <th>Brand</th>\n",
       "      <th>Model</th>\n",
       "      <th>Year</th>\n",
       "      <th>Engine_Size</th>\n",
       "      <th>Fuel_Type</th>\n",
       "      <th>Transmission</th>\n",
       "      <th>Mileage</th>\n",
       "      <th>Doors</th>\n",
       "      <th>Owner_Count</th>\n",
       "      <th>Price</th>\n",
       "    </tr>\n",
       "  </thead>\n",
       "  <tbody>\n",
       "    <tr>\n",
       "      <th>0</th>\n",
       "      <td>Kia</td>\n",
       "      <td>Rio</td>\n",
       "      <td>2020</td>\n",
       "      <td>4.2</td>\n",
       "      <td>Diesel</td>\n",
       "      <td>Manual</td>\n",
       "      <td>289944</td>\n",
       "      <td>3</td>\n",
       "      <td>5</td>\n",
       "      <td>8501</td>\n",
       "    </tr>\n",
       "    <tr>\n",
       "      <th>1</th>\n",
       "      <td>Chevrolet</td>\n",
       "      <td>Malibu</td>\n",
       "      <td>2012</td>\n",
       "      <td>2.0</td>\n",
       "      <td>Hybrid</td>\n",
       "      <td>Automatic</td>\n",
       "      <td>5356</td>\n",
       "      <td>2</td>\n",
       "      <td>3</td>\n",
       "      <td>12092</td>\n",
       "    </tr>\n",
       "    <tr>\n",
       "      <th>2</th>\n",
       "      <td>Mercedes</td>\n",
       "      <td>GLA</td>\n",
       "      <td>2020</td>\n",
       "      <td>4.2</td>\n",
       "      <td>Diesel</td>\n",
       "      <td>Automatic</td>\n",
       "      <td>231440</td>\n",
       "      <td>4</td>\n",
       "      <td>2</td>\n",
       "      <td>11171</td>\n",
       "    </tr>\n",
       "    <tr>\n",
       "      <th>3</th>\n",
       "      <td>Audi</td>\n",
       "      <td>Q5</td>\n",
       "      <td>2023</td>\n",
       "      <td>2.0</td>\n",
       "      <td>Electric</td>\n",
       "      <td>Manual</td>\n",
       "      <td>160971</td>\n",
       "      <td>2</td>\n",
       "      <td>1</td>\n",
       "      <td>11780</td>\n",
       "    </tr>\n",
       "    <tr>\n",
       "      <th>4</th>\n",
       "      <td>Volkswagen</td>\n",
       "      <td>Golf</td>\n",
       "      <td>2003</td>\n",
       "      <td>2.6</td>\n",
       "      <td>Hybrid</td>\n",
       "      <td>Semi-Automatic</td>\n",
       "      <td>286618</td>\n",
       "      <td>3</td>\n",
       "      <td>3</td>\n",
       "      <td>2867</td>\n",
       "    </tr>\n",
       "  </tbody>\n",
       "</table>\n",
       "</div>"
      ],
      "text/plain": [
       "        Brand   Model  Year  Engine_Size  ... Mileage Doors  Owner_Count  Price\n",
       "0         Kia     Rio  2020          4.2  ...  289944     3            5   8501\n",
       "1   Chevrolet  Malibu  2012          2.0  ...    5356     2            3  12092\n",
       "2    Mercedes     GLA  2020          4.2  ...  231440     4            2  11171\n",
       "3        Audi      Q5  2023          2.0  ...  160971     2            1  11780\n",
       "4  Volkswagen    Golf  2003          2.6  ...  286618     3            3   2867\n",
       "\n",
       "[5 rows x 10 columns]"
      ]
     },
     "execution_count": 48,
     "metadata": {},
     "output_type": "execute_result"
    }
   ],
   "source": [
    "dataset = pd.read_csv(\"car_price_dataset.csv\")\n",
    "dataset.head()"
   ]
  },
  {
   "cell_type": "code",
   "execution_count": 49,
   "id": "2efb08a9-8c07-43cb-9996-1e13f7de3c6a",
   "metadata": {},
   "outputs": [
    {
     "data": {
      "text/plain": [
       "(10000, 10)"
      ]
     },
     "execution_count": 49,
     "metadata": {},
     "output_type": "execute_result"
    }
   ],
   "source": [
    "dataset.shape"
   ]
  },
  {
   "cell_type": "code",
   "execution_count": 50,
   "id": "e92c436b-7385-431a-b5c1-2f6ac67f81b4",
   "metadata": {},
   "outputs": [
    {
     "data": {
      "text/plain": [
       "Brand           0\n",
       "Model           0\n",
       "Year            0\n",
       "Engine_Size     0\n",
       "Fuel_Type       0\n",
       "Transmission    0\n",
       "Mileage         0\n",
       "Doors           0\n",
       "Owner_Count     0\n",
       "Price           0\n",
       "dtype: int64"
      ]
     },
     "execution_count": 50,
     "metadata": {},
     "output_type": "execute_result"
    }
   ],
   "source": [
    "dataset.isnull().sum()"
   ]
  },
  {
   "cell_type": "code",
   "execution_count": 51,
   "id": "ccc9fc91-6e8e-488c-b3a6-d706bad44cb3",
   "metadata": {},
   "outputs": [
    {
     "data": {
      "text/html": [
       "<div>\n",
       "<style scoped>\n",
       "    .dataframe tbody tr th:only-of-type {\n",
       "        vertical-align: middle;\n",
       "    }\n",
       "\n",
       "    .dataframe tbody tr th {\n",
       "        vertical-align: top;\n",
       "    }\n",
       "\n",
       "    .dataframe thead th {\n",
       "        text-align: right;\n",
       "    }\n",
       "</style>\n",
       "<table border=\"1\" class=\"dataframe\">\n",
       "  <thead>\n",
       "    <tr style=\"text-align: right;\">\n",
       "      <th></th>\n",
       "      <th>Year</th>\n",
       "      <th>Engine_Size</th>\n",
       "      <th>Mileage</th>\n",
       "      <th>Doors</th>\n",
       "      <th>Owner_Count</th>\n",
       "      <th>Price</th>\n",
       "    </tr>\n",
       "  </thead>\n",
       "  <tbody>\n",
       "    <tr>\n",
       "      <th>count</th>\n",
       "      <td>10000.000000</td>\n",
       "      <td>10000.000000</td>\n",
       "      <td>10000.000000</td>\n",
       "      <td>10000.000000</td>\n",
       "      <td>10000.000000</td>\n",
       "      <td>10000.00000</td>\n",
       "    </tr>\n",
       "    <tr>\n",
       "      <th>mean</th>\n",
       "      <td>2011.543700</td>\n",
       "      <td>3.000560</td>\n",
       "      <td>149239.111800</td>\n",
       "      <td>3.497100</td>\n",
       "      <td>2.991100</td>\n",
       "      <td>8852.96440</td>\n",
       "    </tr>\n",
       "    <tr>\n",
       "      <th>std</th>\n",
       "      <td>6.897699</td>\n",
       "      <td>1.149324</td>\n",
       "      <td>86322.348957</td>\n",
       "      <td>1.110097</td>\n",
       "      <td>1.422682</td>\n",
       "      <td>3112.59681</td>\n",
       "    </tr>\n",
       "    <tr>\n",
       "      <th>min</th>\n",
       "      <td>2000.000000</td>\n",
       "      <td>1.000000</td>\n",
       "      <td>25.000000</td>\n",
       "      <td>2.000000</td>\n",
       "      <td>1.000000</td>\n",
       "      <td>2000.00000</td>\n",
       "    </tr>\n",
       "    <tr>\n",
       "      <th>25%</th>\n",
       "      <td>2006.000000</td>\n",
       "      <td>2.000000</td>\n",
       "      <td>74649.250000</td>\n",
       "      <td>3.000000</td>\n",
       "      <td>2.000000</td>\n",
       "      <td>6646.00000</td>\n",
       "    </tr>\n",
       "    <tr>\n",
       "      <th>50%</th>\n",
       "      <td>2012.000000</td>\n",
       "      <td>3.000000</td>\n",
       "      <td>149587.000000</td>\n",
       "      <td>3.000000</td>\n",
       "      <td>3.000000</td>\n",
       "      <td>8858.50000</td>\n",
       "    </tr>\n",
       "    <tr>\n",
       "      <th>75%</th>\n",
       "      <td>2017.000000</td>\n",
       "      <td>4.000000</td>\n",
       "      <td>223577.500000</td>\n",
       "      <td>4.000000</td>\n",
       "      <td>4.000000</td>\n",
       "      <td>11086.50000</td>\n",
       "    </tr>\n",
       "    <tr>\n",
       "      <th>max</th>\n",
       "      <td>2023.000000</td>\n",
       "      <td>5.000000</td>\n",
       "      <td>299947.000000</td>\n",
       "      <td>5.000000</td>\n",
       "      <td>5.000000</td>\n",
       "      <td>18301.00000</td>\n",
       "    </tr>\n",
       "  </tbody>\n",
       "</table>\n",
       "</div>"
      ],
      "text/plain": [
       "               Year   Engine_Size  ...   Owner_Count        Price\n",
       "count  10000.000000  10000.000000  ...  10000.000000  10000.00000\n",
       "mean    2011.543700      3.000560  ...      2.991100   8852.96440\n",
       "std        6.897699      1.149324  ...      1.422682   3112.59681\n",
       "min     2000.000000      1.000000  ...      1.000000   2000.00000\n",
       "25%     2006.000000      2.000000  ...      2.000000   6646.00000\n",
       "50%     2012.000000      3.000000  ...      3.000000   8858.50000\n",
       "75%     2017.000000      4.000000  ...      4.000000  11086.50000\n",
       "max     2023.000000      5.000000  ...      5.000000  18301.00000\n",
       "\n",
       "[8 rows x 6 columns]"
      ]
     },
     "execution_count": 51,
     "metadata": {},
     "output_type": "execute_result"
    }
   ],
   "source": [
    "dataset.describe() "
   ]
  },
  {
   "cell_type": "code",
   "execution_count": 52,
   "id": "f84742b1-9d13-418f-a5bc-9a4c0cb0e5eb",
   "metadata": {},
   "outputs": [],
   "source": [
    "# Aparentemente, nenhum outlier ou dado faltante\n",
    "# Agora, para análise gráfica dos dados\n",
    "# O que exatamente você acha que poderia influenciar o preço de um carro?\n",
    "# Bom, na verdade, todas as informações presentes parecem influenciar o preço de alguma forma"
   ]
  },
  {
   "cell_type": "code",
   "execution_count": 53,
   "id": "d6d583eb-2ee7-4182-a855-be613a89bd9c",
   "metadata": {},
   "outputs": [
    {
     "data": {
      "text/plain": [
       "count    10000.00000\n",
       "mean      8852.96440\n",
       "std       3112.59681\n",
       "min       2000.00000\n",
       "25%       6646.00000\n",
       "50%       8858.50000\n",
       "75%      11086.50000\n",
       "max      18301.00000\n",
       "Name: Price, dtype: float64"
      ]
     },
     "execution_count": 53,
     "metadata": {},
     "output_type": "execute_result"
    }
   ],
   "source": [
    "dataset[\"Price\"].describe()"
   ]
  },
  {
   "cell_type": "code",
   "execution_count": 54,
   "id": "e75d616e-3fe4-4880-9629-86de2854f967",
   "metadata": {},
   "outputs": [
    {
     "data": {
      "image/png": "[encoded data removed]",
      "text/plain": [
       "<Figure size 500x500 with 1 Axes>"
      ]
     },
     "metadata": {},
     "output_type": "display_data"
    }
   ],
   "source": [
    "srn.displot(dataset['Price']);"
   ]
  },
  {
   "cell_type": "code",
   "execution_count": 55,
   "id": "b056c275-daaa-4ff2-9640-edd437284d97",
   "metadata": {},
   "outputs": [
    {
     "name": "stdout",
     "output_type": "stream",
     "text": [
      "Assimetria: 0.026136\n",
      "Curtose: -0.481945\n"
     ]
    }
   ],
   "source": [
    "print(\"Assimetria: %f\" % dataset['Price'].skew())\n",
    "print(\"Curtose: %f\" % dataset['Price'].kurt())"
   ]
  },
  {
   "cell_type": "code",
   "execution_count": 56,
   "id": "1903e468-c345-48f7-92f2-8429de3b1bba",
   "metadata": {},
   "outputs": [],
   "source": [
    "# Perfeito! Realmente não temos que nos preocupar com erros.\n",
    "# Agora, vamos tentar encontrar as maiores relações com o preço"
   ]
  },
  {
   "cell_type": "code",
   "execution_count": 57,
   "id": "7acff089-3fdc-4c69-9b9d-f5dc34d44c1f",
   "metadata": {},
   "outputs": [
    {
     "data": {
      "text/plain": [
       "<Axes: xlabel='Year', ylabel='Price'>"
      ]
     },
     "execution_count": 57,
     "metadata": {},
     "output_type": "execute_result"
    },
    {
     "data": {
      "image/png": "[encoded data removed]",
      "text/plain": [
       "<Figure size 640x480 with 1 Axes>"
      ]
     },
     "metadata": {},
     "output_type": "display_data"
    }
   ],
   "source": [
    "data = pd.concat([dataset.loc[:1000,['Price']], dataset['Year']], axis=1)\n",
    "data.plot.scatter(x='Year', y='Price', ylim=(1))"
   ]
  },
  {
   "cell_type": "code",
   "execution_count": 58,
   "id": "30e4b5e3-9171-4d93-98d9-0fb5bd3455e5",
   "metadata": {},
   "outputs": [
    {
     "data": {
      "text/plain": [
       "<Axes: xlabel='Mileage', ylabel='Price'>"
      ]
     },
     "execution_count": 58,
     "metadata": {},
     "output_type": "execute_result"
    },
    {
     "data": {
      "image/png": "[encoded data removed]",
      "text/plain": [
       "<Figure size 640x480 with 1 Axes>"
      ]
     },
     "metadata": {},
     "output_type": "display_data"
    }
   ],
   "source": [
    "data = pd.concat([dataset.loc[:1000,['Price']], dataset['Mileage']], axis=1)\n",
    "data.plot.scatter(x='Mileage', y='Price')"
   ]
  },
  {
   "cell_type": "code",
   "execution_count": 59,
   "id": "1920b5e9-4e73-436a-b7d4-855271e69aba",
   "metadata": {},
   "outputs": [],
   "source": [
    "# Como esperado, carros mais antigos e mais rodados tendem a ser mais baratos...\n",
    "# Isso provavelmente seria a mesma coisa para todos os dados, considerando as tendências\n",
    "# Agora para a parte de treinamento de modelo\n",
    "# Precisamos agora organizar os dados"
   ]
  },
  {
   "cell_type": "code",
   "execution_count": 60,
   "id": "d2396132",
   "metadata": {},
   "outputs": [],
   "source": [
    "X = dataset.drop(columns=['Price'], axis=1)\n",
    "y = dataset['Price']"
   ]
  },
  {
   "cell_type": "code",
   "execution_count": 61,
   "id": "c7c80f59",
   "metadata": {},
   "outputs": [],
   "source": [
    "# Agora para o pré processador de colunas \n",
    "# Um pré processador de colunas é um componente usado para transformar os dados antes de alimentar um modelo de machine learning. Ele aplica diferentes tipos de pré processamento a diferentes colunas do dataset, garantindo que todas as variáveis fiquem no formato ideal para o modelo"
   ]
  },
  {
   "cell_type": "code",
   "execution_count": 62,
   "id": "9234ef2b",
   "metadata": {},
   "outputs": [],
   "source": [
    "var_num = X.select_dtypes(exclude=\"object\").columns\n",
    "var_cat = X.select_dtypes(include=\"object\").columns\n",
    "\n",
    "# Agora vamos transformar as variáveis categóricas em numéricas usando técnicas de encoding (como one-hot encoding)\n",
    "\n",
    "from sklearn.preprocessing import OneHotEncoder, StandardScaler\n",
    "from sklearn.compose import ColumnTransformer\n",
    "\n",
    "# O Standard Scaler normaliza as variáveis numéricas para que tenham média 0 e desvio padrão 1\n",
    "# O one hot encoder transformar as variáveis categóricas em variáveis binárias. \n",
    "\n",
    "preprocessor = ColumnTransformer([\n",
    "    ('StandardScaler', StandardScaler(), var_num),\n",
    "    ('OneHotEncoder', OneHotEncoder(handle_unknown='ignore'), var_cat)\n",
    "])\n",
    "\n",
    "# O handle unknown é para lidar com variáveis desconhecidas"
   ]
  },
  {
   "cell_type": "code",
   "execution_count": 63,
   "id": "e0a63279",
   "metadata": {},
   "outputs": [],
   "source": [
    "X = preprocessor.fit_transform(X)\n",
    "# aprende as estatísticas necessárias para a transformação dos dados\n",
    "# aplica as transformações no conjunto de dados com base no que foi aprendido com o fit"
   ]
  },
  {
   "cell_type": "code",
   "execution_count": 64,
   "id": "314fe8b4",
   "metadata": {},
   "outputs": [
    {
     "data": {
      "text/plain": [
       "(10000, 52)"
      ]
     },
     "execution_count": 64,
     "metadata": {},
     "output_type": "execute_result"
    }
   ],
   "source": [
    "X.shape"
   ]
  },
  {
   "cell_type": "code",
   "execution_count": 65,
   "id": "4c16676e",
   "metadata": {},
   "outputs": [
    {
     "data": {
      "text/plain": [
       "((8000, 52), (2000, 52), (8000,), (2000,))"
      ]
     },
     "execution_count": 65,
     "metadata": {},
     "output_type": "execute_result"
    }
   ],
   "source": [
    "# Separar o dataset em treino e teste\n",
    "X_train, X_test, y_train, y_test = train_test_split(X, y, test_size=0.2, random_state=42)\n",
    "X_train.shape, X_test.shape, y_train.shape, y_test.shape"
   ]
  },
  {
   "cell_type": "markdown",
   "id": "c3088a3d",
   "metadata": {},
   "source": [
    "Criando uma função de avaliação para dar todas as métricas depois de treinar o modelo"
   ]
  },
  {
   "cell_type": "code",
   "execution_count": 66,
   "id": "a6c84231",
   "metadata": {},
   "outputs": [],
   "source": [
    "def evaluate_model(model, X_train, X_test, y_train, y_test):\n",
    "    model.fit(X_train, y_train) \n",
    "    # Aqui, o modelo é treinado com dados de treinamento\n",
    "    \n",
    "    y_pred = model.predict(X_test) \n",
    "    # Após o treinamento, faz previsões usando dados de teste\n",
    "    \n",
    "    mse = mean_squared_error(y_test, y_pred) \n",
    "    # O MSE mede a média dos quadrados das diferenças entre os valores reais (y_test) e as previsões (y_pred). Quanto menor o MSE, melhor o modelo.\n",
    "    \n",
    "    mae = mean_absolute_error(y_test, y_pred) \n",
    "    # O MAE calcula a média das diferenças absolutas entre os valores reais e as previsões. Menores valores de MAE indicam melhor desempenho.\n",
    "    \n",
    "    r2 = r2_score(y_test, y_pred)\n",
    "    # O R² indica quanto da variabilidade dos dados de teste pode ser explicada pelo modelo. O valor de R² varia de 0 a 1. Um valor de 1 indica um modelo perfeito, enquanto 0 significa que o modelo não explica nada da variabilidade dos dados.\n",
    "    \n",
    "    return mse, mae, r2\n",
    "    \n",
    "# model: O modelo de machine learning que você deseja treinar e avaliar. Esse modelo deve ter o método fit() (para treinar) e o método predict() (para fazer previsões).\n",
    "# X_train: Os dados de entrada para treinar o modelo (variáveis independentes) para o conjunto de treinamento.\n",
    "# X_test: Os dados de entrada para testar o modelo (variáveis independentes) para o conjunto de teste.\n",
    "# y_train: Os rótulos ou valores reais associados aos dados de treino (variáveis dependentes).\n",
    "# y_test: Os rótulos ou valores reais associados aos dados de teste."
   ]
  },
  {
   "cell_type": "code",
   "execution_count": 67,
   "id": "ae55ed2e",
   "metadata": {},
   "outputs": [
    {
     "name": "stdout",
     "output_type": "stream",
     "text": [
      "KNeighborsRegressor\n",
      "Model performance for training set\n",
      "- Root Mean Squared Error: 817747.4014\n",
      "- Mean Absolute Error: 728.3626\n",
      "- R-squared: 0.9166\n",
      "=================================================\n",
      "Model performance for test set\n",
      "- Root Mean Squared Error: 1127307.0581\n",
      "- Mean Absolute Error: 848.8747\n",
      "- R-squared: 0.8773\n",
      "3535353535353535353535353535353535353535353535353535353535353535353535\n",
      "\n",
      "\n",
      "DecisionTreeRegressor\n",
      "Model performance for training set\n",
      "- Root Mean Squared Error: 0.0000\n",
      "- Mean Absolute Error: 0.0000\n",
      "- R-squared: 1.0000\n",
      "=================================================\n",
      "Model performance for test set\n",
      "- Root Mean Squared Error: 379729.1385\n",
      "- Mean Absolute Error: 478.8595\n",
      "- R-squared: 0.9587\n",
      "3535353535353535353535353535353535353535353535353535353535353535353535\n",
      "\n",
      "\n",
      "AdaBoostRegressor\n",
      "Model performance for training set\n",
      "- Root Mean Squared Error: 825791.8949\n",
      "- Mean Absolute Error: 726.3415\n",
      "- R-squared: 0.9158\n",
      "=================================================\n",
      "Model performance for test set\n",
      "- Root Mean Squared Error: 790657.1532\n",
      "- Mean Absolute Error: 712.8059\n",
      "- R-squared: 0.9139\n",
      "3535353535353535353535353535353535353535353535353535353535353535353535\n",
      "\n",
      "\n",
      "LinearRegression\n",
      "Model performance for training set\n",
      "- Root Mean Squared Error: 8119.1496\n",
      "- Mean Absolute Error: 22.9790\n",
      "- R-squared: 0.9992\n",
      "=================================================\n",
      "Model performance for test set\n",
      "- Root Mean Squared Error: 4213.9248\n",
      "- Mean Absolute Error: 20.0036\n",
      "- R-squared: 0.9995\n",
      "3535353535353535353535353535353535353535353535353535353535353535353535\n",
      "\n",
      "\n",
      "Ridge\n",
      "Model performance for training set\n",
      "- Root Mean Squared Error: 8119.5383\n",
      "- Mean Absolute Error: 23.3246\n",
      "- R-squared: 0.9992\n",
      "=================================================\n",
      "Model performance for test set\n",
      "- Root Mean Squared Error: 4218.3241\n",
      "- Mean Absolute Error: 20.3218\n",
      "- R-squared: 0.9995\n",
      "3535353535353535353535353535353535353535353535353535353535353535353535\n",
      "\n",
      "\n",
      "Lasso\n",
      "Model performance for training set\n",
      "- Root Mean Squared Error: 8173.8238\n",
      "- Mean Absolute Error: 25.1378\n",
      "- R-squared: 0.9992\n",
      "=================================================\n",
      "Model performance for test set\n",
      "- Root Mean Squared Error: 4217.8538\n",
      "- Mean Absolute Error: 21.7616\n",
      "- R-squared: 0.9995\n",
      "3535353535353535353535353535353535353535353535353535353535353535353535\n",
      "\n",
      "\n",
      "XGBRegressor\n",
      "Model performance for training set\n",
      "- Root Mean Squared Error: 16610.9629\n",
      "- Mean Absolute Error: 98.7364\n",
      "- R-squared: 0.9983\n",
      "=================================================\n",
      "Model performance for test set\n",
      "- Root Mean Squared Error: 57374.7617\n",
      "- Mean Absolute Error: 188.6274\n",
      "- R-squared: 0.9938\n",
      "3535353535353535353535353535353535353535353535353535353535353535353535\n",
      "\n",
      "\n"
     ]
    }
   ],
   "source": [
    "models = {\n",
    "    'KNeighborsRegressor' : KNeighborsRegressor(),\n",
    "    'DecisionTreeRegressor' : DecisionTreeRegressor(),\n",
    "    'AdaBoostRegressor' : AdaBoostRegressor(),\n",
    "    'LinearRegression' : LinearRegression(),\n",
    "    'Ridge' : Ridge(),\n",
    "    'Lasso' : Lasso(),\n",
    "    'XGBRegressor' : XGBRegressor()\n",
    "}\n",
    "\n",
    "model_list = [] \n",
    "r2_list = []\n",
    "mse_list = []\n",
    "for i in range(len(list(models))):\n",
    "    model = list(models.values())[i]\n",
    "    model.fit(X_train, y_train)\n",
    "    \n",
    "    y_train_pred = model.predict(X_train)\n",
    "    y_test_pred = model.predict(X_test)\n",
    "    \n",
    "    model_train_mse, model_train_mae, model_train_r2 = evaluate_model(model, X_train, X_train, y_train, y_train)\n",
    "    model_test_mse, model_test_mae, model_test_r2 = evaluate_model(model, X_train, X_test, y_train, y_test)\n",
    "    \n",
    "    print(f'{list(models.keys())[i]}')\n",
    "    model_list.append(list(models.keys())[i])\n",
    "    \n",
    "    print('Model performance for training set')\n",
    "    print('- Root Mean Squared Error: {:.4f}'.format(model_train_mse))\n",
    "    print('- Mean Absolute Error: {:.4f}'.format(model_train_mae))\n",
    "    print('- R-squared: {:.4f}'.format(model_train_r2))\n",
    "    \n",
    "    print('=================================================')\n",
    "    print('Model performance for test set')\n",
    "    print('- Root Mean Squared Error: {:.4f}'.format(model_test_mse))\n",
    "    print('- Mean Absolute Error: {:.4f}'.format(model_test_mae))\n",
    "    print('- R-squared: {:.4f}'.format(model_test_r2))\n",
    "    r2_list.append(model_test_r2)\n",
    "    mse_list.append(model_test_mse)\n",
    "    print('35'* 35)\n",
    "    print('\\n')\n",
    "    \n",
    "# O loop percorre todos os modelos definidos no dicionário.\n",
    "# Para cada modelo, ele é treinado com os dados de treinamento (X_train, y_train).\n",
    "# As previsões são feitas para o conjunto de treinamento e teste.\n",
    "# O desempenho de cada modelo é avaliado com as métricas MSE, MAE e R² para os conjuntos de treinamento e teste.\n",
    "# Os resultados são impressos e as métricas de desempenho para o conjunto de teste são salvas em listas.  "
   ]
  },
  {
   "cell_type": "code",
   "execution_count": 68,
   "id": "386f87a4",
   "metadata": {},
   "outputs": [
    {
     "data": {
      "text/html": [
       "<div>\n",
       "<style scoped>\n",
       "    .dataframe tbody tr th:only-of-type {\n",
       "        vertical-align: middle;\n",
       "    }\n",
       "\n",
       "    .dataframe tbody tr th {\n",
       "        vertical-align: top;\n",
       "    }\n",
       "\n",
       "    .dataframe thead th {\n",
       "        text-align: right;\n",
       "    }\n",
       "</style>\n",
       "<table border=\"1\" class=\"dataframe\">\n",
       "  <thead>\n",
       "    <tr style=\"text-align: right;\">\n",
       "      <th></th>\n",
       "      <th>Model</th>\n",
       "      <th>R^2</th>\n",
       "      <th>MSE</th>\n",
       "    </tr>\n",
       "  </thead>\n",
       "  <tbody>\n",
       "    <tr>\n",
       "      <th>3</th>\n",
       "      <td>LinearRegression</td>\n",
       "      <td>0.999541</td>\n",
       "      <td>4.213925e+03</td>\n",
       "    </tr>\n",
       "    <tr>\n",
       "      <th>5</th>\n",
       "      <td>Lasso</td>\n",
       "      <td>0.999541</td>\n",
       "      <td>4.217854e+03</td>\n",
       "    </tr>\n",
       "    <tr>\n",
       "      <th>4</th>\n",
       "      <td>Ridge</td>\n",
       "      <td>0.999541</td>\n",
       "      <td>4.218324e+03</td>\n",
       "    </tr>\n",
       "    <tr>\n",
       "      <th>6</th>\n",
       "      <td>XGBRegressor</td>\n",
       "      <td>0.993755</td>\n",
       "      <td>5.737476e+04</td>\n",
       "    </tr>\n",
       "    <tr>\n",
       "      <th>1</th>\n",
       "      <td>DecisionTreeRegressor</td>\n",
       "      <td>0.958670</td>\n",
       "      <td>3.797291e+05</td>\n",
       "    </tr>\n",
       "    <tr>\n",
       "      <th>2</th>\n",
       "      <td>AdaBoostRegressor</td>\n",
       "      <td>0.913945</td>\n",
       "      <td>7.906572e+05</td>\n",
       "    </tr>\n",
       "    <tr>\n",
       "      <th>0</th>\n",
       "      <td>KNeighborsRegressor</td>\n",
       "      <td>0.877304</td>\n",
       "      <td>1.127307e+06</td>\n",
       "    </tr>\n",
       "  </tbody>\n",
       "</table>\n",
       "</div>"
      ],
      "text/plain": [
       "                   Model       R^2           MSE\n",
       "3       LinearRegression  0.999541  4.213925e+03\n",
       "5                  Lasso  0.999541  4.217854e+03\n",
       "4                  Ridge  0.999541  4.218324e+03\n",
       "6           XGBRegressor  0.993755  5.737476e+04\n",
       "1  DecisionTreeRegressor  0.958670  3.797291e+05\n",
       "2      AdaBoostRegressor  0.913945  7.906572e+05\n",
       "0    KNeighborsRegressor  0.877304  1.127307e+06"
      ]
     },
     "execution_count": 68,
     "metadata": {},
     "output_type": "execute_result"
    }
   ],
   "source": [
    "pd.DataFrame(list(zip(model_list, r2_list, mse_list)), columns=['Model', 'R^2','MSE']).sort_values(by = 'R^2', ascending = False)"
   ]
  },
  {
   "cell_type": "code",
   "execution_count": 69,
   "id": "2281e823",
   "metadata": {},
   "outputs": [
    {
     "name": "stdout",
     "output_type": "stream",
     "text": [
      "Accuracy of the model:  99.95413570907378\n"
     ]
    }
   ],
   "source": [
    "# Cria uma instância do modelo de regressão linear\n",
    "# O método predict usa o modelo treinado para fazer previsões. Os dados X_test são dados que o modelo nunca viu antes\n",
    "# A função R2_score calcula o valor de R²(coeficiente de determinação) que mede a qualidade do ajute do modelo aos dados reais\n",
    "\n",
    "lin_model = LinearRegression().fit(X_train, y_train)\n",
    "y_pred = lin_model.predict(X_test)\n",
    "score = r2_score(y_test, y_pred) * 100\n",
    "print(\"Accuracy of the model: \", score) "
   ]
  },
  {
   "cell_type": "markdown",
   "id": "c5bc7f16",
   "metadata": {},
   "source": [
    "Plot y_pred e y_test"
   ]
  },
  {
   "cell_type": "code",
   "execution_count": 70,
   "id": "9c379d86",
   "metadata": {},
   "outputs": [
    {
     "data": {
      "text/plain": [
       "<Axes: xlabel='Price'>"
      ]
     },
     "execution_count": 70,
     "metadata": {},
     "output_type": "execute_result"
    },
    {
     "data": {
      "image/png": "[encoded data removed]",
      "text/plain": [
       "<Figure size 640x480 with 1 Axes>"
      ]
     },
     "metadata": {},
     "output_type": "display_data"
    }
   ],
   "source": [
    "srn.regplot(x = y_test, y= y_pred, ci=None, color='blue')"
   ]
  },
  {
   "cell_type": "code",
   "execution_count": 71,
   "id": "7e2c4624",
   "metadata": {},
   "outputs": [
    {
     "data": {
      "text/html": [
       "<div>\n",
       "<style scoped>\n",
       "    .dataframe tbody tr th:only-of-type {\n",
       "        vertical-align: middle;\n",
       "    }\n",
       "\n",
       "    .dataframe tbody tr th {\n",
       "        vertical-align: top;\n",
       "    }\n",
       "\n",
       "    .dataframe thead th {\n",
       "        text-align: right;\n",
       "    }\n",
       "</style>\n",
       "<table border=\"1\" class=\"dataframe\">\n",
       "  <thead>\n",
       "    <tr style=\"text-align: right;\">\n",
       "      <th></th>\n",
       "      <th>Actual</th>\n",
       "      <th>Predicted</th>\n",
       "      <th>Difference</th>\n",
       "    </tr>\n",
       "  </thead>\n",
       "  <tbody>\n",
       "    <tr>\n",
       "      <th>6252</th>\n",
       "      <td>2000</td>\n",
       "      <td>1691.445781</td>\n",
       "      <td>308.554219</td>\n",
       "    </tr>\n",
       "    <tr>\n",
       "      <th>4684</th>\n",
       "      <td>11164</td>\n",
       "      <td>11149.127525</td>\n",
       "      <td>14.872475</td>\n",
       "    </tr>\n",
       "    <tr>\n",
       "      <th>1731</th>\n",
       "      <td>14630</td>\n",
       "      <td>14601.971472</td>\n",
       "      <td>28.028528</td>\n",
       "    </tr>\n",
       "    <tr>\n",
       "      <th>4742</th>\n",
       "      <td>7334</td>\n",
       "      <td>7348.983842</td>\n",
       "      <td>-14.983842</td>\n",
       "    </tr>\n",
       "    <tr>\n",
       "      <th>4521</th>\n",
       "      <td>10127</td>\n",
       "      <td>10146.193275</td>\n",
       "      <td>-19.193275</td>\n",
       "    </tr>\n",
       "    <tr>\n",
       "      <th>...</th>\n",
       "      <td>...</td>\n",
       "      <td>...</td>\n",
       "      <td>...</td>\n",
       "    </tr>\n",
       "    <tr>\n",
       "      <th>6412</th>\n",
       "      <td>4681</td>\n",
       "      <td>4710.409005</td>\n",
       "      <td>-29.409005</td>\n",
       "    </tr>\n",
       "    <tr>\n",
       "      <th>8285</th>\n",
       "      <td>12839</td>\n",
       "      <td>12812.074663</td>\n",
       "      <td>26.925337</td>\n",
       "    </tr>\n",
       "    <tr>\n",
       "      <th>7853</th>\n",
       "      <td>8124</td>\n",
       "      <td>8131.167197</td>\n",
       "      <td>-7.167197</td>\n",
       "    </tr>\n",
       "    <tr>\n",
       "      <th>1095</th>\n",
       "      <td>6709</td>\n",
       "      <td>6724.651517</td>\n",
       "      <td>-15.651517</td>\n",
       "    </tr>\n",
       "    <tr>\n",
       "      <th>6929</th>\n",
       "      <td>11855</td>\n",
       "      <td>11842.434867</td>\n",
       "      <td>12.565133</td>\n",
       "    </tr>\n",
       "  </tbody>\n",
       "</table>\n",
       "<p>2000 rows × 3 columns</p>\n",
       "</div>"
      ],
      "text/plain": [
       "      Actual     Predicted  Difference\n",
       "6252    2000   1691.445781  308.554219\n",
       "4684   11164  11149.127525   14.872475\n",
       "1731   14630  14601.971472   28.028528\n",
       "4742    7334   7348.983842  -14.983842\n",
       "4521   10127  10146.193275  -19.193275\n",
       "...      ...           ...         ...\n",
       "6412    4681   4710.409005  -29.409005\n",
       "8285   12839  12812.074663   26.925337\n",
       "7853    8124   8131.167197   -7.167197\n",
       "1095    6709   6724.651517  -15.651517\n",
       "6929   11855  11842.434867   12.565133\n",
       "\n",
       "[2000 rows x 3 columns]"
      ]
     },
     "execution_count": 71,
     "metadata": {},
     "output_type": "execute_result"
    }
   ],
   "source": [
    "pred_df = pd.DataFrame({'Actual': y_test, 'Predicted': y_pred, 'Difference': y_test - y_pred})\n",
    "pred_df"
   ]
  }
 ],
 "metadata": {
  "kernelspec": {
   "display_name": "Python 3",
   "language": "python",
   "name": "python3"
  },
  "language_info": {
   "codemirror_mode": {
    "name": "ipython",
    "version": 3
   },
   "file_extension": ".py",
   "mimetype": "text/x-python",
   "name": "python",
   "nbconvert_exporter": "python",
   "pygments_lexer": "ipython3",
   "version": "3.13.0"
  }
 },
 "nbformat": 4,
 "nbformat_minor": 5
}
